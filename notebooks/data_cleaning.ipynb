{
 "cells": [
  {
   "cell_type": "raw",
   "metadata": {},
   "source": [
    "http://nflsavant.com/pbp_data.php?year=2019\n",
    "http://nflsavant.com/pbp_data.php?year=2018\n",
    "http://nflsavant.com/pbp_data.php?year=2017\n",
    "http://nflsavant.com/pbp_data.php?year=2016\n",
    "http://nflsavant.com/pbp_data.php?year=2015\n",
    "http://nflsavant.com/pbp_data.php?year=2014\n",
    "http://nflsavant.com/pbp_data.php?year=2013\n",
    "\n",
    "https://sportsdata.io/developers/data-dictionary/nfl\n",
    "\n",
    "https://www.nfl.com/stats/player-stats/"
   ]
  }
 ],
 "metadata": {
  "kernelspec": {
   "display_name": "Python 3",
   "language": "python",
   "name": "python3"
  },
  "language_info": {
   "codemirror_mode": {
    "name": "ipython",
    "version": 3
   },
   "file_extension": ".py",
   "mimetype": "text/x-python",
   "name": "python",
   "nbconvert_exporter": "python",
   "pygments_lexer": "ipython3",
   "version": "3.7.6"
  }
 },
 "nbformat": 4,
 "nbformat_minor": 4
}
